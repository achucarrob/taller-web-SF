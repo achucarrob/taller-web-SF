{
 "cells": [
  {
   "cell_type": "markdown",
   "metadata": {},
   "source": [
    "# Challenge 10 min\n",
    "\n",
    "En el archivo app.py creamos la ruta \"/saludo\" y enviamos un string ej: (“Mi nombre es < nombre>”)"
   ]
  },
  {
   "cell_type": "markdown",
   "metadata": {},
   "source": [
    "# Challenge\n",
    "\n",
    "Renderizar con render_template un saludo desde un archivo.html"
   ]
  }
 ],
 "metadata": {
  "language_info": {
   "name": "python"
  },
  "orig_nbformat": 4
 },
 "nbformat": 4,
 "nbformat_minor": 2
}
